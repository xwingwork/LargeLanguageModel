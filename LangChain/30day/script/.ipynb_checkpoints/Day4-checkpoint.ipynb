{
 "cells": [
  {
   "cell_type": "code",
   "execution_count": 1,
   "id": "bec2c745-a756-46e0-8778-4770a86cbfef",
   "metadata": {},
   "outputs": [
    {
     "name": "stdout",
     "output_type": "stream",
     "text": [
      "Note: you may need to restart the kernel to use updated packages.\n",
      "Note: you may need to restart the kernel to use updated packages.\n",
      "Note: you may need to restart the kernel to use updated packages.\n",
      "Note: you may need to restart the kernel to use updated packages.\n"
     ]
    }
   ],
   "source": [
    "%%capture --no-stderr\n",
    "%pip install --upgrade --quiet langchain\n",
    "%pip install --upgrade --quiet langchain-openai\n",
    "%pip install --upgrade --quiet langgraph\n",
    "%pip install --upgrade --quiet langchain-community"
   ]
  },
  {
   "cell_type": "code",
   "execution_count": 2,
   "id": "021cc9f7-9205-4db9-9341-09bdfabb43e5",
   "metadata": {},
   "outputs": [],
   "source": [
    "from typing import TypedDict, Annotated, Sequence\n",
    "import operator\n",
    "\n",
    "# 上下文傳遞模型\n",
    "class AllState(TypedDict):\n",
    "    messages: Annotated[Sequence[str], operator.add]\n",
    "\n"
   ]
  },
  {
   "cell_type": "code",
   "execution_count": 3,
   "id": "12d1ac46-9ad4-44db-aa0c-d03cae1b833a",
   "metadata": {},
   "outputs": [],
   "source": [
    "from langchain_openai import ChatOpenAI\n",
    "from langchain.prompts import ChatPromptTemplate\n",
    "\n",
    "# 原本設定為[temperature=0.4]，會有費用問題\n",
    "model = ChatOpenAI(\n",
    "    model=\"gpt-4o-mini\",\n",
    "    temperature=0,\n",
    "    max_tokens=None,\n",
    "    timeout=None,\n",
    "    max_retries=2,)\n",
    "prompt_str = \"\"\"\n",
    "You are given one question and you have to extract city name from it\n",
    "Don't respond anything except the city name and don't reply anything if you can't find city name\n",
    "Only reply the city name if it exists or reply 'no_response' if there is no city name in question\n",
    "\n",
    "  Here is the question:\n",
    "  {user_query}\n",
    "\"\"\"\n",
    "prompt = ChatPromptTemplate.from_template(prompt_str)\n",
    "chain = prompt | model"
   ]
  },
  {
   "cell_type": "code",
   "execution_count": 4,
   "id": "d8bd6f56-5251-49ab-8638-2ea77f18ce82",
   "metadata": {},
   "outputs": [],
   "source": [
    "def get_taiwan_weather(city: str) -> str:\n",
    "    \"\"\"查詢台灣特定城市的天氣狀況。\"\"\"\n",
    "    weather_data = {\n",
    "        \"台北\": \"晴天，溫度28°C\",\n",
    "        \"台中\": \"多雲，溫度26°C\",\n",
    "        \"高雄\": \"陰天，溫度30°C\"\n",
    "    }\n",
    "    return f\"{city}的天氣：{weather_data.get(city, '暫無資料')}\""
   ]
  },
  {
   "cell_type": "code",
   "execution_count": 5,
   "id": "dbc95cdd-8d26-4236-aa3f-856fb0e97ae8",
   "metadata": {},
   "outputs": [],
   "source": [
    "def call_model(state: AllState):\n",
    "    messages = state[\"messages\"]\n",
    "    response = chain.invoke(messages)\n",
    "    return {\"messages\": [response]}\n",
    "def weather_tool(state):\n",
    "  context = state[\"messages\"]\n",
    "  city_name = context[1].content\n",
    "  data = get_taiwan_weather(city_name)\n",
    "  return {\"messages\": [data]}"
   ]
  },
  {
   "cell_type": "code",
   "execution_count": 6,
   "id": "002465f3-be16-4ae7-a306-7aa24d2282c5",
   "metadata": {},
   "outputs": [],
   "source": [
    "from langgraph.graph import StateGraph\n",
    "\n",
    "graph_builder = StateGraph(AllState)\n",
    "graph_builder.add_node(\"agent\", call_model)\n",
    "graph_builder.add_node(\"weather\", weather_tool) # 回答前會先閱讀節點的資料\n",
    "\n",
    "graph_builder.add_edge('agent', 'weather')\n",
    "\n",
    "graph_builder.set_entry_point(\"agent\")\n",
    "graph_builder.set_finish_point(\"weather\")\n",
    "\n",
    "app = graph_builder.compile()"
   ]
  },
  {
   "cell_type": "code",
   "execution_count": 7,
   "id": "645a276d-e66e-4600-8ce3-2dd37f299e76",
   "metadata": {},
   "outputs": [
    {
     "data": {
      "text/plain": [
       "'高雄的天氣：陰天，溫度30°C'"
      ]
     },
     "execution_count": 7,
     "metadata": {},
     "output_type": "execute_result"
    }
   ],
   "source": [
    "init_state = {\"messages\":[\"想知道高雄天氣如何?\"]}\n",
    "response = app.invoke(init_state)\n",
    "response['messages'][-1] # 回答了節點中的資訊"
   ]
  },
  {
   "cell_type": "markdown",
   "id": "5792b22d-70c3-4b4b-b858-043b06d07cab",
   "metadata": {},
   "source": [
    "加裝回應器，嘗試改變`沒資料`的回答"
   ]
  },
  {
   "cell_type": "code",
   "execution_count": 8,
   "id": "6599ee3f-190c-4f38-a272-0b8720df60b1",
   "metadata": {},
   "outputs": [],
   "source": [
    "def query_classify(state: AllState):\n",
    "  messages = state[\"messages\"]\n",
    "  ctx = messages[0]\n",
    "  if ctx == \"no_response\":\n",
    "    return \"end\"\n",
    "  else:\n",
    "    return \"continue\""
   ]
  },
  {
   "cell_type": "code",
   "execution_count": 9,
   "id": "31549621-a8c0-41e6-b14d-c1800f118cd2",
   "metadata": {},
   "outputs": [],
   "source": [
    "# 原本設定為[temperature=0.4]，會有費用問題\n",
    "model = ChatOpenAI(\n",
    "    model=\"gpt-4o-mini\",\n",
    "    temperature=0,\n",
    "    max_tokens=None,\n",
    "    timeout=None,\n",
    "    max_retries=2,)\n",
    "response_prompt_str = \"\"\"\n",
    "  You have given a weather information and you have to respond to user's query based on the information\n",
    "\n",
    "  Here is the user query:\n",
    "  ---\n",
    "  {user_query}\n",
    "  ---\n",
    "\n",
    "  Here is the information:\n",
    "  ---\n",
    "  {information}\n",
    "  ---\n",
    "  \"\"\"\n",
    "response_prompt = ChatPromptTemplate.from_template(response_prompt_str)\n",
    "\n",
    "response_chain = response_prompt | model\n",
    "\n",
    "def responder(state: AllState):\n",
    "    messages = state[\"messages\"]\n",
    "    response = response_chain.invoke({\n",
    "        \"user_query\": messages[0],\n",
    "        \"information\": messages[1]\n",
    "    })\n",
    "    return {\"messages\": [response]}"
   ]
  },
  {
   "cell_type": "code",
   "execution_count": 10,
   "id": "1d174987-f00a-49cf-a3af-bf5c08156a3f",
   "metadata": {},
   "outputs": [
    {
     "data": {
      "text/plain": [
       "'杜拜的天氣：暫無資料'"
      ]
     },
     "execution_count": 10,
     "metadata": {},
     "output_type": "execute_result"
    }
   ],
   "source": [
    "init_state = {\"messages\":[\"想知道杜拜天氣如何?\"]}\n",
    "response = app.invoke(init_state)\n",
    "response['messages'][-1]"
   ]
  },
  {
   "cell_type": "markdown",
   "id": "55d7143d-1a6c-49d6-8254-21dc650c8031",
   "metadata": {},
   "source": [
    "回應器加裝後，回應的結果沒變"
   ]
  }
 ],
 "metadata": {
  "kernelspec": {
   "display_name": "Python 3 (ipykernel)",
   "language": "python",
   "name": "python3"
  },
  "language_info": {
   "codemirror_mode": {
    "name": "ipython",
    "version": 3
   },
   "file_extension": ".py",
   "mimetype": "text/x-python",
   "name": "python",
   "nbconvert_exporter": "python",
   "pygments_lexer": "ipython3",
   "version": "3.12.11"
  }
 },
 "nbformat": 4,
 "nbformat_minor": 5
}
