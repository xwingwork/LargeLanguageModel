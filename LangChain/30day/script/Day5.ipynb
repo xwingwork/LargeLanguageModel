{
 "cells": [
  {
   "cell_type": "markdown",
   "id": "cbcd9034-72ae-4f6e-b43d-7b442e477a39",
   "metadata": {},
   "source": [
    "# 串流`LangChain`"
   ]
  },
  {
   "cell_type": "code",
   "execution_count": 1,
   "id": "da8859f9-989e-431b-b984-5cb575e3fc1f",
   "metadata": {},
   "outputs": [],
   "source": [
    "from langchain_openai import ChatOpenAI\n",
    "# 預設沒有指定model，會有費用問題\n",
    "model = ChatOpenAI(\n",
    "    model=\"gpt-4o-mini\",\n",
    "    temperature=0,\n",
    "    max_tokens=None,\n",
    "    timeout=None,\n",
    "    max_retries=2,\n",
    ")"
   ]
  },
  {
   "cell_type": "code",
   "execution_count": 2,
   "id": "9b517b4a-d6be-4a91-bdeb-bdbcfebc9857",
   "metadata": {},
   "outputs": [
    {
     "name": "stdout",
     "output_type": "stream",
     "text": [
      "|K|ubernetes|（|通常|簡|稱|為| K|8|s|）|和| Docker| 是|兩|個|在|容|器|化|技|術|中|常|用|的|工具|，但|它|們|的|功能|和|用途|有所|不同|。|以下|是|它|們|之|間|的|主要|區|別|：\n",
      "\n",
      "|1|.| **|基本|概|念|**|：\n",
      "|  | -| **|Docker|**|：|Docker| 是|一|個|開|源|平台|，用|於|自|動|化|應|用|程序|的|部署|、|擴|展|和|管理|。|它|允|許|開|發|者|將|應|用|程序|及|其|依|賴|項|打|包|到|容|器|中|，|這|樣|可以|在|任何|環|境|中|一致|地|運|行|。\n",
      "|  | -| **|K|ubernetes|**|：|K|ubernetes| 是|一|個|開|源|的|容|器|編|排|平台|，用|於|管理|和|自|動|化|容|器|化|應|用|程序|的|部署|、|擴|展|和|運|行|。|它|可以|管理|多|個|容|器|的|生命|週|期|，|並|提供|負|載|均|衡|、|服務|發|現|、|滾|動|更新|等|功能|。\n",
      "\n",
      "|2|.| **|功能|**|：\n",
      "|  | -| **|Docker|**|：|主要|用|於|創|建|和|運|行|容|器|。|它|提供|了|容|器|的|打|包|、|分|發|和|運|行|環|境|。\n",
      "|  | -| **|K|ubernetes|**|：|主要|用|於|管理|多|個|容|器|的|集|群|。|它|提供|了|容|器|的|調|度|、|擴|展|、|負|載|均|衡|、|故|障|恢|復|等|功能|。\n",
      "\n",
      "|3|.| **|使用|場|景|**|：\n",
      "|  | -| **|Docker|**|：|適|合|單|個|應|用|程序|或|服務|的|容|器|化|，|特|別|是在|開|發|和|測|試|階|段|。\n",
      "|  | -| **|K|ubernetes|**|：|適|合|需要|管理|多|個|容|器|的|生|產|環|境|，|特|別|是|微|服務|架|構|的|應|用|程序|。\n",
      "\n",
      "|4|.| **|架|構|**|：\n",
      "|  | -| **|Docker|**|：|包含| Docker| Engine|（|容|器|運|行|時|）、|Docker| Hub|（|容|器|映|像|庫|）|等|組|件|。\n",
      "|  | -| **|K|ubernetes|**|：|由|多|個|組|件|組|成|，包括| Master| 節|點|（|控制|平|面|）、|Worker| 節|點|（|運|行|容|器|的|節|點|）、|Pod|（|K|ubernetes| 中|的|最|小|部署|單|位|）|等|。\n",
      "\n",
      "|5|.| **|學|習|曲|線|**|：\n",
      "|  | -| **|Docker|**|：|相|對|簡|單|，|適|合|初|學|者|快速|上|手|。\n",
      "|  | -| **|K|ubernetes|**|：|相|對|複|雜|，需要|理解|其|架|構|和|概|念|，|學|習|曲|線|較|陡|。\n",
      "\n",
      "|總|結|來|說|，|Docker| 和| Kubernetes| 是|互|補|的|技|術|，|Docker| 用|於|容|器|的|創|建|和|運|行|，而| Kubernetes| 則|用|於|管理|和|編|排|這|些|容|器|。在|實|際|應|用|中|，|通常|會|將|兩|者|結|合|使用|，以|實|現|更|高|效|的|容|器|化|應|用|管理|。||"
     ]
    }
   ],
   "source": [
    "chunks = []\n",
    "async for chunk in model.astream(\"請你告訴我 k8s 跟 docker 區別\"):\n",
    "    chunks.append(chunk)\n",
    "    print(chunk.content, end=\"|\", flush=True)"
   ]
  },
  {
   "cell_type": "markdown",
   "id": "3366f2d1-4748-4a0d-b9ad-712176ae9348",
   "metadata": {},
   "source": [
    "得到的是`AIMessageChunk`對象。這些塊在設計上是可累加的——只需簡單地將它們相加，就能得到到目前為止的完整響應狀態！"
   ]
  },
  {
   "cell_type": "code",
   "execution_count": 3,
   "id": "8322ce0c-590d-48f0-aeb6-56bcca4a9d47",
   "metadata": {},
   "outputs": [
    {
     "name": "stdout",
     "output_type": "stream",
     "text": [
      "### K8s 兒歌\n",
      "\n",
      "（副歌）  \n",
      "K8s，K8s，雲端小精靈，  \n",
      "容器在舞動，服務真神奇！  \n",
      "自動擴展，負載均衡，  \n",
      "一起來學習，快樂又輕鬆！\n",
      "\n",
      "（第一段）  \n",
      "小小容器，裝著大世界，  \n",
      "應用程式，隨時都能飛。  \n",
      "Pod 在運行，像小船在海，  \n",
      "K8s 幫忙，讓它們不累！\n",
      "\n",
      "（副歌）  \n",
      "K8s，K8s，雲端小精靈，  \n",
      "容器在舞動，服務真神奇！  \n",
      "自動擴展，負載均衡，  \n",
      "一起來學習，快樂又輕鬆！\n",
      "\n",
      "（第二段）  \n",
      "服務發現，像找朋友，  \n",
      "每個 Pod 都有，自己的家喔！  \n",
      "滾動更新，不怕出錯，  \n",
      "K8s 在守護，讓我們放心多！\n",
      "\n",
      "（副歌）  \n",
      "K8s，K8s，雲端小精靈，  \n",
      "容器在舞動，服務真神奇！  \n",
      "自動擴展，負載均衡，  \n",
      "一起來學習，快樂又輕鬆！\n",
      "\n",
      "（結尾）  \n",
      "小小 K8s，讓世界更美，  \n",
      "一起來探索，科技的未來！  \n",
      "雲端的夢想，隨著你我飛，  \n",
      "K8s 的旅程，永遠不會累！  \n",
      "\n",
      "（副歌）  \n",
      "K8s，K8s，雲端小精靈，  \n",
      "容器在舞動，服務真神奇！  \n",
      "自動擴展，負載均衡，  \n",
      "一起來學習，快樂又輕鬆！"
     ]
    }
   ],
   "source": [
    "for chunk in model.stream(\"寫一首關於 k8s 的兒歌\"):\n",
    "    print(chunk.content, end=\"\", flush=True)"
   ]
  },
  {
   "cell_type": "markdown",
   "id": "d67b88f7-b413-4ad1-b928-753dbb2f721f",
   "metadata": {},
   "source": [
    "使用`StrOutputParser`來解析模型的輸出。這是一個簡單的解析器，它從 AIMessageChunk 中提取內容字段，給我們模型返回的 token。\n",
    "`LCEL`是一種聲明式方法，用於通過鏈接不同的 LangChain 原語來指定\"程序\"。使用 LCEL 創建的鏈條會自動實現 stream 和 astream，允許串流最終輸出。\n",
    "`StrOutputParser`用途就是把 Chunk 當中`content`提出"
   ]
  },
  {
   "cell_type": "code",
   "execution_count": 4,
   "id": "3138000c-e44c-412b-8c33-b34131cde5a1",
   "metadata": {},
   "outputs": [
    {
     "name": "stdout",
     "output_type": "stream",
     "text": [
      "|早|安|！|願|今天|的|陽|光|帶|給|您|和|父|母|親|無|限|的|溫|暖|與|愛|。|感|謝|他|們|的|辛|勞|與|付|出|，|讓|我們|能|夠|在|這|個|美|好的|早|晨|迎|接|新|的一|天|。|希望|您|能|抽|空|陪|伴|他|們|，|分享|生活|中的|點|滴|，|讓|愛|在|每|一|個|早|晨|都|更加|深|厚|！||"
     ]
    }
   ],
   "source": [
    "from langchain_core.output_parsers import StrOutputParser\n",
    "from langchain_core.prompts import ChatPromptTemplate\n",
    "\n",
    "prompt = ChatPromptTemplate.from_template(\"講一個早安問候語關於 {topic}\")\n",
    "parser = StrOutputParser()\n",
    "chain = prompt | model | parser\n",
    "\n",
    "async for chunk in chain.astream({\"topic\": \"父母親\"}):\n",
    "    print(chunk, end=\"|\", flush=True)"
   ]
  },
  {
   "cell_type": "markdown",
   "id": "43b041b8-ff86-4810-80a4-be41bd8f90ad",
   "metadata": {},
   "source": [
    "Event Streaming 是一個 beta API\n",
    "為了讓 astream_events API 正常工作\n",
    "* 盡可能在整個代碼中使用 async（例如，異步工具等）\n",
    "* 在定義自定義函數 runnalbes 時傳播 callbacks\n",
    "* 當不使用 LCEL 而使用可運行對象時，確保調用 LLM 的`.astream()`而不是`.ainvoke`，以強制 LLM 串流 token"
   ]
  },
  {
   "cell_type": "markdown",
   "id": "0b84886a-acb1-4914-abdd-6596fa0ba46e",
   "metadata": {},
   "source": [
    "透過`Chat Model`看聊天模型產生的事件"
   ]
  },
  {
   "cell_type": "code",
   "execution_count": 5,
   "id": "395b9480-9801-444f-b9f6-b041b0ceb7ed",
   "metadata": {},
   "outputs": [],
   "source": [
    "events = []\n",
    "async for event in model.astream_events(\"早安\", version=\"v2\"):\n",
    "    events.append(event)"
   ]
  },
  {
   "cell_type": "code",
   "execution_count": 6,
   "id": "55141895-271e-46be-8928-371295c839d5",
   "metadata": {},
   "outputs": [
    {
     "name": "stdout",
     "output_type": "stream",
     "text": [
      "[{'event': 'on_chat_model_start', 'data': {'input': '早安'}, 'name': 'ChatOpenAI', 'tags': [], 'run_id': 'cb430439-3a7a-4342-847c-cf114a5e9fe3', 'metadata': {'ls_provider': 'openai', 'ls_model_name': 'gpt-4o-mini', 'ls_model_type': 'chat', 'ls_temperature': 0.0}, 'parent_ids': []}, {'event': 'on_chat_model_stream', 'run_id': 'cb430439-3a7a-4342-847c-cf114a5e9fe3', 'name': 'ChatOpenAI', 'tags': [], 'metadata': {'ls_provider': 'openai', 'ls_model_name': 'gpt-4o-mini', 'ls_model_type': 'chat', 'ls_temperature': 0.0}, 'data': {'chunk': AIMessageChunk(content='', additional_kwargs={}, response_metadata={}, id='run--cb430439-3a7a-4342-847c-cf114a5e9fe3')}, 'parent_ids': []}, {'event': 'on_chat_model_stream', 'run_id': 'cb430439-3a7a-4342-847c-cf114a5e9fe3', 'name': 'ChatOpenAI', 'tags': [], 'metadata': {'ls_provider': 'openai', 'ls_model_name': 'gpt-4o-mini', 'ls_model_type': 'chat', 'ls_temperature': 0.0}, 'data': {'chunk': AIMessageChunk(content='早', additional_kwargs={}, response_metadata={}, id='run--cb430439-3a7a-4342-847c-cf114a5e9fe3')}, 'parent_ids': []}, {'event': 'on_chat_model_stream', 'run_id': 'cb430439-3a7a-4342-847c-cf114a5e9fe3', 'name': 'ChatOpenAI', 'tags': [], 'metadata': {'ls_provider': 'openai', 'ls_model_name': 'gpt-4o-mini', 'ls_model_type': 'chat', 'ls_temperature': 0.0}, 'data': {'chunk': AIMessageChunk(content='安', additional_kwargs={}, response_metadata={}, id='run--cb430439-3a7a-4342-847c-cf114a5e9fe3')}, 'parent_ids': []}, {'event': 'on_chat_model_stream', 'run_id': 'cb430439-3a7a-4342-847c-cf114a5e9fe3', 'name': 'ChatOpenAI', 'tags': [], 'metadata': {'ls_provider': 'openai', 'ls_model_name': 'gpt-4o-mini', 'ls_model_type': 'chat', 'ls_temperature': 0.0}, 'data': {'chunk': AIMessageChunk(content='！', additional_kwargs={}, response_metadata={}, id='run--cb430439-3a7a-4342-847c-cf114a5e9fe3')}, 'parent_ids': []}, {'event': 'on_chat_model_stream', 'run_id': 'cb430439-3a7a-4342-847c-cf114a5e9fe3', 'name': 'ChatOpenAI', 'tags': [], 'metadata': {'ls_provider': 'openai', 'ls_model_name': 'gpt-4o-mini', 'ls_model_type': 'chat', 'ls_temperature': 0.0}, 'data': {'chunk': AIMessageChunk(content='今天', additional_kwargs={}, response_metadata={}, id='run--cb430439-3a7a-4342-847c-cf114a5e9fe3')}, 'parent_ids': []}, {'event': 'on_chat_model_stream', 'run_id': 'cb430439-3a7a-4342-847c-cf114a5e9fe3', 'name': 'ChatOpenAI', 'tags': [], 'metadata': {'ls_provider': 'openai', 'ls_model_name': 'gpt-4o-mini', 'ls_model_type': 'chat', 'ls_temperature': 0.0}, 'data': {'chunk': AIMessageChunk(content='有什么', additional_kwargs={}, response_metadata={}, id='run--cb430439-3a7a-4342-847c-cf114a5e9fe3')}, 'parent_ids': []}, {'event': 'on_chat_model_stream', 'run_id': 'cb430439-3a7a-4342-847c-cf114a5e9fe3', 'name': 'ChatOpenAI', 'tags': [], 'metadata': {'ls_provider': 'openai', 'ls_model_name': 'gpt-4o-mini', 'ls_model_type': 'chat', 'ls_temperature': 0.0}, 'data': {'chunk': AIMessageChunk(content='计划', additional_kwargs={}, response_metadata={}, id='run--cb430439-3a7a-4342-847c-cf114a5e9fe3')}, 'parent_ids': []}, {'event': 'on_chat_model_stream', 'run_id': 'cb430439-3a7a-4342-847c-cf114a5e9fe3', 'name': 'ChatOpenAI', 'tags': [], 'metadata': {'ls_provider': 'openai', 'ls_model_name': 'gpt-4o-mini', 'ls_model_type': 'chat', 'ls_temperature': 0.0}, 'data': {'chunk': AIMessageChunk(content='吗', additional_kwargs={}, response_metadata={}, id='run--cb430439-3a7a-4342-847c-cf114a5e9fe3')}, 'parent_ids': []}, {'event': 'on_chat_model_stream', 'run_id': 'cb430439-3a7a-4342-847c-cf114a5e9fe3', 'name': 'ChatOpenAI', 'tags': [], 'metadata': {'ls_provider': 'openai', 'ls_model_name': 'gpt-4o-mini', 'ls_model_type': 'chat', 'ls_temperature': 0.0}, 'data': {'chunk': AIMessageChunk(content='？', additional_kwargs={}, response_metadata={}, id='run--cb430439-3a7a-4342-847c-cf114a5e9fe3')}, 'parent_ids': []}, {'event': 'on_chat_model_stream', 'run_id': 'cb430439-3a7a-4342-847c-cf114a5e9fe3', 'name': 'ChatOpenAI', 'tags': [], 'metadata': {'ls_provider': 'openai', 'ls_model_name': 'gpt-4o-mini', 'ls_model_type': 'chat', 'ls_temperature': 0.0}, 'data': {'chunk': AIMessageChunk(content='', additional_kwargs={}, response_metadata={'finish_reason': 'stop', 'model_name': 'gpt-4o-mini-2024-07-18', 'service_tier': 'default'}, id='run--cb430439-3a7a-4342-847c-cf114a5e9fe3')}, 'parent_ids': []}, {'event': 'on_chat_model_end', 'data': {'output': AIMessageChunk(content='早安！今天有什么计划吗？', additional_kwargs={}, response_metadata={'finish_reason': 'stop', 'model_name': 'gpt-4o-mini-2024-07-18', 'service_tier': 'default'}, id='run--cb430439-3a7a-4342-847c-cf114a5e9fe3')}, 'run_id': 'cb430439-3a7a-4342-847c-cf114a5e9fe3', 'name': 'ChatOpenAI', 'tags': [], 'metadata': {'ls_provider': 'openai', 'ls_model_name': 'gpt-4o-mini', 'ls_model_type': 'chat', 'ls_temperature': 0.0}, 'parent_ids': []}]\n"
     ]
    }
   ],
   "source": [
    "print(events)"
   ]
  },
  {
   "cell_type": "markdown",
   "id": "90b3c7d9-c78c-49de-92a9-78d5b2df9597",
   "metadata": {},
   "source": [
    "從一開始`on_chat_model_start`,`on_chat_model_stream`, 到最後 `on_chat_model_end`，透過條件判斷列印，方便識別事件"
   ]
  },
  {
   "cell_type": "code",
   "execution_count": 7,
   "id": "a51202d6-b5b5-41da-941b-1e1bc2cfa7c1",
   "metadata": {},
   "outputs": [
    {
     "name": "stdout",
     "output_type": "stream",
     "text": [
      "Streamgin Start\n",
      "早|安|！|今天|有什么|计划|吗|？|希望|你|有|个|美|好|的一|天|！|\n",
      "Streamgin End\n"
     ]
    }
   ],
   "source": [
    "async for event in model.astream_events(\"早安\", version=\"v2\"):\n",
    "    event_type = event[\"event\"]\n",
    "    if event_type ==\"on_chat_model_start\":\n",
    "        print(\"Streamgin Start\", flush=False)\n",
    "    if event_type == \"on_chat_model_stream\":\n",
    "        content = event[\"data\"][\"chunk\"].content\n",
    "        if content:\n",
    "          #要考慮一下回傳沒有的情況\n",
    "          print(content, end=\"|\", flush=False)\n",
    "    if event_type == \"on_chat_model_end\":\n",
    "        print(\"\\nStreamgin End\", flush=False)"
   ]
  },
  {
   "cell_type": "markdown",
   "id": "6b1cdf21-5d01-4b23-98b4-4f7170799282",
   "metadata": {},
   "source": [
    "結合`StrOutputParser`整理串流輸出格式"
   ]
  },
  {
   "cell_type": "code",
   "execution_count": 8,
   "id": "c00a4f49-2e2c-45c4-a798-428907c800b6",
   "metadata": {},
   "outputs": [],
   "source": [
    "prompt = ChatPromptTemplate.from_template(\"講一個早安問候語關於 {topic}\")\n",
    "parser = StrOutputParser()\n",
    "chain = prompt | model | parser\n",
    "\n",
    "parser_events = []\n",
    "async for event in chain.astream_events({\"topic\": \"父母親\"}, version=\"v2\"):\n",
    "    parser_events.append(event)\n"
   ]
  },
  {
   "cell_type": "markdown",
   "id": "5ca65c64-5e19-4cf1-9a4c-04b69b3ff0b4",
   "metadata": {},
   "source": [
    "觀察前6筆事件"
   ]
  },
  {
   "cell_type": "code",
   "execution_count": 10,
   "id": "8342c3af-6c93-4c1b-b9b0-e351e222f562",
   "metadata": {},
   "outputs": [
    {
     "name": "stdout",
     "output_type": "stream",
     "text": [
      "[{'event': 'on_chain_start', 'data': {'input': {'topic': '父母親'}}, 'name': 'RunnableSequence', 'tags': [], 'run_id': 'ae474a39-435d-4b96-919c-9d3066aa705f', 'metadata': {}, 'parent_ids': []}, {'event': 'on_prompt_start', 'data': {'input': {'topic': '父母親'}}, 'name': 'ChatPromptTemplate', 'tags': ['seq:step:1'], 'run_id': '2bbd8a64-404e-4042-a323-32c7ffdfea2b', 'metadata': {}, 'parent_ids': ['ae474a39-435d-4b96-919c-9d3066aa705f']}, {'event': 'on_prompt_end', 'data': {'output': ChatPromptValue(messages=[HumanMessage(content='講一個早安問候語關於 父母親', additional_kwargs={}, response_metadata={})]), 'input': {'topic': '父母親'}}, 'run_id': '2bbd8a64-404e-4042-a323-32c7ffdfea2b', 'name': 'ChatPromptTemplate', 'tags': ['seq:step:1'], 'metadata': {}, 'parent_ids': ['ae474a39-435d-4b96-919c-9d3066aa705f']}, {'event': 'on_chat_model_start', 'data': {'input': {'messages': [[HumanMessage(content='講一個早安問候語關於 父母親', additional_kwargs={}, response_metadata={})]]}}, 'name': 'ChatOpenAI', 'tags': ['seq:step:2'], 'run_id': '4aa6aa2c-e0f3-4e2c-bc59-982b2c4097ea', 'metadata': {'ls_provider': 'openai', 'ls_model_name': 'gpt-4o-mini', 'ls_model_type': 'chat', 'ls_temperature': 0.0}, 'parent_ids': ['ae474a39-435d-4b96-919c-9d3066aa705f']}, {'event': 'on_chat_model_stream', 'data': {'chunk': AIMessageChunk(content='', additional_kwargs={}, response_metadata={}, id='run--4aa6aa2c-e0f3-4e2c-bc59-982b2c4097ea')}, 'run_id': '4aa6aa2c-e0f3-4e2c-bc59-982b2c4097ea', 'name': 'ChatOpenAI', 'tags': ['seq:step:2'], 'metadata': {'ls_provider': 'openai', 'ls_model_name': 'gpt-4o-mini', 'ls_model_type': 'chat', 'ls_temperature': 0.0}, 'parent_ids': ['ae474a39-435d-4b96-919c-9d3066aa705f']}, {'event': 'on_parser_start', 'data': {}, 'name': 'StrOutputParser', 'tags': ['seq:step:3'], 'run_id': 'eb305ee9-f2c4-4513-87aa-08e6adb15b8a', 'metadata': {}, 'parent_ids': ['ae474a39-435d-4b96-919c-9d3066aa705f']}]\n"
     ]
    }
   ],
   "source": [
    "print(parser_events[:6])"
   ]
  },
  {
   "cell_type": "markdown",
   "id": "1fd9b4e5-3c00-4549-8d26-654b2a8cbea7",
   "metadata": {},
   "source": [
    "出現了4個不同的開始事件\n",
    "1. 整個鏈（模型 + 解析器）的啟動`on_chain_start`\n",
    "2. 提示的啟動`on_prompt_start`\n",
    "3. 模型的初始化`on_chat_model_start`\n",
    "4. 解析器的準備階段`on_prompt_start`"
   ]
  },
  {
   "cell_type": "markdown",
   "id": "641aa0a1-4749-44e4-bbd6-9a57dab6c1ee",
   "metadata": {},
   "source": [
    "透過條件判斷列印，方便識別事件"
   ]
  },
  {
   "cell_type": "code",
   "execution_count": 11,
   "id": "fe44711c-acc6-4666-b62b-86fe432649de",
   "metadata": {},
   "outputs": [
    {
     "name": "stdout",
     "output_type": "stream",
     "text": [
      "模型輸出 chunk: ''\n",
      "解析器輸出 chunk: \n",
      "模型輸出 chunk: '早'\n",
      "解析器輸出 chunk: 早\n",
      "模型輸出 chunk: '安'\n",
      "解析器輸出 chunk: 安\n",
      "模型輸出 chunk: '！'\n",
      "解析器輸出 chunk: ！\n",
      "模型輸出 chunk: '願'\n",
      "解析器輸出 chunk: 願\n",
      "模型輸出 chunk: '今天'\n",
      "解析器輸出 chunk: 今天\n",
      "模型輸出 chunk: '的'\n",
      "解析器輸出 chunk: 的\n",
      "模型輸出 chunk: '陽'\n",
      "解析器輸出 chunk: 陽\n",
      "模型輸出 chunk: '光'\n",
      "解析器輸出 chunk: 光\n",
      "...\n"
     ]
    }
   ],
   "source": [
    "num_events = 0\n",
    "\n",
    "async for event in chain.astream_events(\n",
    "    {\"topic\": \"父母親\"},\n",
    "    version=\"v2\",\n",
    "):\n",
    "    kind = event[\"event\"]\n",
    "    if kind == \"on_chat_model_stream\":\n",
    "        print(\n",
    "            f\"模型輸出 chunk: {repr(event['data']['chunk'].content)}\",\n",
    "            flush=True,\n",
    "        )\n",
    "    if kind == \"on_parser_stream\":\n",
    "        print(f\"解析器輸出 chunk: {event['data']['chunk']}\", flush=True)\n",
    "    num_events += 1\n",
    "    if num_events > 30:\n",
    "        # Truncate the output\n",
    "        print(\"...\")\n",
    "        break"
   ]
  },
  {
   "cell_type": "markdown",
   "id": "5ba86f74-3edd-4ed1-9a3e-93eab40988af",
   "metadata": {},
   "source": [
    "能分別監控並分析鏈，提供性能優化的數據源"
   ]
  },
  {
   "cell_type": "markdown",
   "id": "f73703ba-45d2-471f-b178-e01237a01e93",
   "metadata": {},
   "source": [
    "按類型(type)過濾，只找`on_chat_model_*`(`chat_model`)"
   ]
  },
  {
   "cell_type": "code",
   "execution_count": 12,
   "id": "d5b218fa-9f4f-4aef-9eb0-a9dbb98a3d55",
   "metadata": {},
   "outputs": [
    {
     "name": "stdout",
     "output_type": "stream",
     "text": [
      "{'event': 'on_chat_model_start', 'data': {'input': {'topic': '父母親'}}, 'name': 'ChatOpenAI', 'tags': ['seq:step:2'], 'run_id': '07a205d0-98eb-4d99-a5a4-b791864bb229', 'metadata': {'ls_provider': 'openai', 'ls_model_name': 'gpt-4o-mini', 'ls_model_type': 'chat', 'ls_temperature': 0.0}, 'parent_ids': ['983f6cc7-ed74-4d6e-a1bf-a17a23759534']}\n",
      "{'event': 'on_chat_model_stream', 'data': {'chunk': AIMessageChunk(content='', additional_kwargs={}, response_metadata={}, id='run--07a205d0-98eb-4d99-a5a4-b791864bb229')}, 'run_id': '07a205d0-98eb-4d99-a5a4-b791864bb229', 'name': 'ChatOpenAI', 'tags': ['seq:step:2'], 'metadata': {'ls_provider': 'openai', 'ls_model_name': 'gpt-4o-mini', 'ls_model_type': 'chat', 'ls_temperature': 0.0}, 'parent_ids': ['983f6cc7-ed74-4d6e-a1bf-a17a23759534']}\n",
      "{'event': 'on_chat_model_stream', 'data': {'chunk': AIMessageChunk(content='早', additional_kwargs={}, response_metadata={}, id='run--07a205d0-98eb-4d99-a5a4-b791864bb229')}, 'run_id': '07a205d0-98eb-4d99-a5a4-b791864bb229', 'name': 'ChatOpenAI', 'tags': ['seq:step:2'], 'metadata': {'ls_provider': 'openai', 'ls_model_name': 'gpt-4o-mini', 'ls_model_type': 'chat', 'ls_temperature': 0.0}, 'parent_ids': ['983f6cc7-ed74-4d6e-a1bf-a17a23759534']}\n",
      "{'event': 'on_chat_model_stream', 'data': {'chunk': AIMessageChunk(content='安', additional_kwargs={}, response_metadata={}, id='run--07a205d0-98eb-4d99-a5a4-b791864bb229')}, 'run_id': '07a205d0-98eb-4d99-a5a4-b791864bb229', 'name': 'ChatOpenAI', 'tags': ['seq:step:2'], 'metadata': {'ls_provider': 'openai', 'ls_model_name': 'gpt-4o-mini', 'ls_model_type': 'chat', 'ls_temperature': 0.0}, 'parent_ids': ['983f6cc7-ed74-4d6e-a1bf-a17a23759534']}\n",
      "{'event': 'on_chat_model_stream', 'data': {'chunk': AIMessageChunk(content='！', additional_kwargs={}, response_metadata={}, id='run--07a205d0-98eb-4d99-a5a4-b791864bb229')}, 'run_id': '07a205d0-98eb-4d99-a5a4-b791864bb229', 'name': 'ChatOpenAI', 'tags': ['seq:step:2'], 'metadata': {'ls_provider': 'openai', 'ls_model_name': 'gpt-4o-mini', 'ls_model_type': 'chat', 'ls_temperature': 0.0}, 'parent_ids': ['983f6cc7-ed74-4d6e-a1bf-a17a23759534']}\n",
      "{'event': 'on_chat_model_stream', 'data': {'chunk': AIMessageChunk(content='願', additional_kwargs={}, response_metadata={}, id='run--07a205d0-98eb-4d99-a5a4-b791864bb229')}, 'run_id': '07a205d0-98eb-4d99-a5a4-b791864bb229', 'name': 'ChatOpenAI', 'tags': ['seq:step:2'], 'metadata': {'ls_provider': 'openai', 'ls_model_name': 'gpt-4o-mini', 'ls_model_type': 'chat', 'ls_temperature': 0.0}, 'parent_ids': ['983f6cc7-ed74-4d6e-a1bf-a17a23759534']}\n",
      "{'event': 'on_chat_model_stream', 'data': {'chunk': AIMessageChunk(content='今天', additional_kwargs={}, response_metadata={}, id='run--07a205d0-98eb-4d99-a5a4-b791864bb229')}, 'run_id': '07a205d0-98eb-4d99-a5a4-b791864bb229', 'name': 'ChatOpenAI', 'tags': ['seq:step:2'], 'metadata': {'ls_provider': 'openai', 'ls_model_name': 'gpt-4o-mini', 'ls_model_type': 'chat', 'ls_temperature': 0.0}, 'parent_ids': ['983f6cc7-ed74-4d6e-a1bf-a17a23759534']}\n",
      "{'event': 'on_chat_model_stream', 'data': {'chunk': AIMessageChunk(content='的', additional_kwargs={}, response_metadata={}, id='run--07a205d0-98eb-4d99-a5a4-b791864bb229')}, 'run_id': '07a205d0-98eb-4d99-a5a4-b791864bb229', 'name': 'ChatOpenAI', 'tags': ['seq:step:2'], 'metadata': {'ls_provider': 'openai', 'ls_model_name': 'gpt-4o-mini', 'ls_model_type': 'chat', 'ls_temperature': 0.0}, 'parent_ids': ['983f6cc7-ed74-4d6e-a1bf-a17a23759534']}\n",
      "{'event': 'on_chat_model_stream', 'data': {'chunk': AIMessageChunk(content='陽', additional_kwargs={}, response_metadata={}, id='run--07a205d0-98eb-4d99-a5a4-b791864bb229')}, 'run_id': '07a205d0-98eb-4d99-a5a4-b791864bb229', 'name': 'ChatOpenAI', 'tags': ['seq:step:2'], 'metadata': {'ls_provider': 'openai', 'ls_model_name': 'gpt-4o-mini', 'ls_model_type': 'chat', 'ls_temperature': 0.0}, 'parent_ids': ['983f6cc7-ed74-4d6e-a1bf-a17a23759534']}\n",
      "{'event': 'on_chat_model_stream', 'data': {'chunk': AIMessageChunk(content='光', additional_kwargs={}, response_metadata={}, id='run--07a205d0-98eb-4d99-a5a4-b791864bb229')}, 'run_id': '07a205d0-98eb-4d99-a5a4-b791864bb229', 'name': 'ChatOpenAI', 'tags': ['seq:step:2'], 'metadata': {'ls_provider': 'openai', 'ls_model_name': 'gpt-4o-mini', 'ls_model_type': 'chat', 'ls_temperature': 0.0}, 'parent_ids': ['983f6cc7-ed74-4d6e-a1bf-a17a23759534']}\n",
      "{'event': 'on_chat_model_stream', 'data': {'chunk': AIMessageChunk(content='帶', additional_kwargs={}, response_metadata={}, id='run--07a205d0-98eb-4d99-a5a4-b791864bb229')}, 'run_id': '07a205d0-98eb-4d99-a5a4-b791864bb229', 'name': 'ChatOpenAI', 'tags': ['seq:step:2'], 'metadata': {'ls_provider': 'openai', 'ls_model_name': 'gpt-4o-mini', 'ls_model_type': 'chat', 'ls_temperature': 0.0}, 'parent_ids': ['983f6cc7-ed74-4d6e-a1bf-a17a23759534']}\n",
      "...\n"
     ]
    }
   ],
   "source": [
    "max_events = 0\n",
    "async for event in chain.astream_events(\n",
    "    {\"topic\": \"父母親\"},\n",
    "    version=\"v2\",\n",
    "    include_types=[\"chat_model\"],\n",
    "):\n",
    "    print(event)\n",
    "    max_events += 1\n",
    "    if max_events > 10:\n",
    "        # Truncate output\n",
    "        print(\"...\")\n",
    "        break\n"
   ]
  },
  {
   "cell_type": "markdown",
   "id": "de6c7eb7-a080-4b0a-82ae-1cd31df8cf28",
   "metadata": {},
   "source": [
    "綜合過濾：按類型(type)、名稱(name)和標籤(tags)\n",
    "> name 好像沒有用，應該是版本問題"
   ]
  },
  {
   "cell_type": "code",
   "execution_count": 13,
   "id": "20078006-2607-4570-9a55-b69c1e8de7e6",
   "metadata": {},
   "outputs": [
    {
     "name": "stdout",
     "output_type": "stream",
     "text": [
      "{'event': 'on_prompt_start', 'data': {'input': {'topic': '父母親'}}, 'name': 'ChatPromptTemplate', 'tags': ['seq:step:1'], 'run_id': 'f42e6173-bf40-41b2-ab90-999537363eeb', 'metadata': {}, 'parent_ids': ['b7028234-a23e-4b24-ba75-3f7d7f459654']}\n",
      "{'event': 'on_prompt_end', 'data': {'output': ChatPromptValue(messages=[HumanMessage(content='講一個早安問候語關於 父母親', additional_kwargs={}, response_metadata={})])}, 'run_id': 'f42e6173-bf40-41b2-ab90-999537363eeb', 'name': 'ChatPromptTemplate', 'tags': ['seq:step:1'], 'metadata': {}, 'parent_ids': ['b7028234-a23e-4b24-ba75-3f7d7f459654']}\n",
      "{'event': 'on_chat_model_start', 'data': {'input': {'messages': [[HumanMessage(content='講一個早安問候語關於 父母親', additional_kwargs={}, response_metadata={})]]}}, 'name': 'ChatOpenAI', 'tags': ['seq:step:2'], 'run_id': '3b90cc41-b8cd-49d9-931c-93749ee62f55', 'metadata': {'ls_provider': 'openai', 'ls_model_name': 'gpt-4o-mini', 'ls_model_type': 'chat', 'ls_temperature': 0.0}, 'parent_ids': ['b7028234-a23e-4b24-ba75-3f7d7f459654']}\n",
      "{'event': 'on_chat_model_stream', 'data': {'chunk': AIMessageChunk(content='', additional_kwargs={}, response_metadata={}, id='run--3b90cc41-b8cd-49d9-931c-93749ee62f55')}, 'run_id': '3b90cc41-b8cd-49d9-931c-93749ee62f55', 'name': 'ChatOpenAI', 'tags': ['seq:step:2'], 'metadata': {'ls_provider': 'openai', 'ls_model_name': 'gpt-4o-mini', 'ls_model_type': 'chat', 'ls_temperature': 0.0}, 'parent_ids': ['b7028234-a23e-4b24-ba75-3f7d7f459654']}\n",
      "{'event': 'on_chat_model_stream', 'data': {'chunk': AIMessageChunk(content='早', additional_kwargs={}, response_metadata={}, id='run--3b90cc41-b8cd-49d9-931c-93749ee62f55')}, 'run_id': '3b90cc41-b8cd-49d9-931c-93749ee62f55', 'name': 'ChatOpenAI', 'tags': ['seq:step:2'], 'metadata': {'ls_provider': 'openai', 'ls_model_name': 'gpt-4o-mini', 'ls_model_type': 'chat', 'ls_temperature': 0.0}, 'parent_ids': ['b7028234-a23e-4b24-ba75-3f7d7f459654']}\n",
      "{'event': 'on_chat_model_stream', 'data': {'chunk': AIMessageChunk(content='安', additional_kwargs={}, response_metadata={}, id='run--3b90cc41-b8cd-49d9-931c-93749ee62f55')}, 'run_id': '3b90cc41-b8cd-49d9-931c-93749ee62f55', 'name': 'ChatOpenAI', 'tags': ['seq:step:2'], 'metadata': {'ls_provider': 'openai', 'ls_model_name': 'gpt-4o-mini', 'ls_model_type': 'chat', 'ls_temperature': 0.0}, 'parent_ids': ['b7028234-a23e-4b24-ba75-3f7d7f459654']}\n",
      "{'event': 'on_chat_model_stream', 'data': {'chunk': AIMessageChunk(content='！', additional_kwargs={}, response_metadata={}, id='run--3b90cc41-b8cd-49d9-931c-93749ee62f55')}, 'run_id': '3b90cc41-b8cd-49d9-931c-93749ee62f55', 'name': 'ChatOpenAI', 'tags': ['seq:step:2'], 'metadata': {'ls_provider': 'openai', 'ls_model_name': 'gpt-4o-mini', 'ls_model_type': 'chat', 'ls_temperature': 0.0}, 'parent_ids': ['b7028234-a23e-4b24-ba75-3f7d7f459654']}\n",
      "{'event': 'on_chat_model_stream', 'data': {'chunk': AIMessageChunk(content='親', additional_kwargs={}, response_metadata={}, id='run--3b90cc41-b8cd-49d9-931c-93749ee62f55')}, 'run_id': '3b90cc41-b8cd-49d9-931c-93749ee62f55', 'name': 'ChatOpenAI', 'tags': ['seq:step:2'], 'metadata': {'ls_provider': 'openai', 'ls_model_name': 'gpt-4o-mini', 'ls_model_type': 'chat', 'ls_temperature': 0.0}, 'parent_ids': ['b7028234-a23e-4b24-ba75-3f7d7f459654']}\n",
      "{'event': 'on_chat_model_stream', 'data': {'chunk': AIMessageChunk(content='愛', additional_kwargs={}, response_metadata={}, id='run--3b90cc41-b8cd-49d9-931c-93749ee62f55')}, 'run_id': '3b90cc41-b8cd-49d9-931c-93749ee62f55', 'name': 'ChatOpenAI', 'tags': ['seq:step:2'], 'metadata': {'ls_provider': 'openai', 'ls_model_name': 'gpt-4o-mini', 'ls_model_type': 'chat', 'ls_temperature': 0.0}, 'parent_ids': ['b7028234-a23e-4b24-ba75-3f7d7f459654']}\n",
      "{'event': 'on_chat_model_stream', 'data': {'chunk': AIMessageChunk(content='的', additional_kwargs={}, response_metadata={}, id='run--3b90cc41-b8cd-49d9-931c-93749ee62f55')}, 'run_id': '3b90cc41-b8cd-49d9-931c-93749ee62f55', 'name': 'ChatOpenAI', 'tags': ['seq:step:2'], 'metadata': {'ls_provider': 'openai', 'ls_model_name': 'gpt-4o-mini', 'ls_model_type': 'chat', 'ls_temperature': 0.0}, 'parent_ids': ['b7028234-a23e-4b24-ba75-3f7d7f459654']}\n",
      "{'event': 'on_chat_model_stream', 'data': {'chunk': AIMessageChunk(content='父', additional_kwargs={}, response_metadata={}, id='run--3b90cc41-b8cd-49d9-931c-93749ee62f55')}, 'run_id': '3b90cc41-b8cd-49d9-931c-93749ee62f55', 'name': 'ChatOpenAI', 'tags': ['seq:step:2'], 'metadata': {'ls_provider': 'openai', 'ls_model_name': 'gpt-4o-mini', 'ls_model_type': 'chat', 'ls_temperature': 0.0}, 'parent_ids': ['b7028234-a23e-4b24-ba75-3f7d7f459654']}\n",
      "...\n"
     ]
    }
   ],
   "source": [
    "prompt = ChatPromptTemplate.from_template(\"講一個早安問候語關於 {topic}\")\n",
    "parser = StrOutputParser().with_config({\"run_name\": \"my_str_parser\"})\n",
    "\n",
    "max_events = 0\n",
    "async for event in chain.astream_events(\n",
    "    {\"topic\": \"父母親\"},\n",
    "    version=\"v2\",\n",
    "    include_names=[\"OAI_MODEL_GPT3.5\"], \n",
    "    include_types=[\"chat_model\", \"prompt\"],\n",
    "    include_tags=[\"my_str_parser\"],\n",
    "):\n",
    "    print(event)\n",
    "    max_events += 1\n",
    "    if max_events > 10:\n",
    "        # Truncate output\n",
    "        print(\"...\")\n",
    "        break"
   ]
  },
  {
   "cell_type": "markdown",
   "id": "00572b22-b87b-4fa3-8476-711aee8da072",
   "metadata": {},
   "source": [
    "## 串流`LangGraph`"
   ]
  },
  {
   "cell_type": "markdown",
   "id": "a4658bf8-d20f-4ab8-9923-8bd2c6ddbae0",
   "metadata": {},
   "source": [
    "定義工具"
   ]
  },
  {
   "cell_type": "code",
   "execution_count": 20,
   "id": "cc2a15e1-8597-4e2d-9b34-e0d818c9bab4",
   "metadata": {},
   "outputs": [],
   "source": [
    "from typing import Literal\n",
    "\n",
    "from langchain_core.tools import tool\n",
    "from langchain_openai import ChatOpenAI\n",
    "from langgraph.prebuilt import create_react_agent\n",
    "\n",
    "@tool\n",
    "def recommend_night_market_food(preference: Literal[\"鹹食\", \"甜食\"]):\n",
    "    \"\"\"推薦夜市小吃。\"\"\"\n",
    "    if preference == \"鹹食\":\n",
    "        return \"推薦你試試饒河夜市的胡椒餅，外皮酥脆內餡多汁，是台北知名小吃！\"\n",
    "    elif preference == \"甜食\":\n",
    "        return \"來一份寧夏夜市的圓仔冰如何？Q彈的湯圓搭配清涼冰品，超級消暑！\"\n",
    "    else:\n",
    "        raise AssertionError(\"未知偏好\")\n",
    "\n",
    "@tool\n",
    "def recommend_bubble_tea(style: Literal[\"傳統\", \"創新\"]):\n",
    "    \"\"\"推薦手搖飲。\"\"\"\n",
    "    if style == \"傳統\":\n",
    "        return \"你一定要品嚐一下台中第四信用合作社對面的珍珠奶茶，香濃滑順，珍珠有嚼勁！\"\n",
    "    elif style == \"創新\":\n",
    "        return \"試試看西門町的芋圓冰沙拿鐵，結合了傳統芋圓和現代咖啡，口感層次豐富！\"\n",
    "    else:\n",
    "        raise AssertionError(\"未知風格\")\n",
    "\n",
    "tools = [recommend_night_market_food, recommend_bubble_tea]\n",
    "# 原本設定為[temperature=0]，會有費用問題\n",
    "model = ChatOpenAI( \n",
    "    model=\"gpt-4o-mini\",\n",
    "    temperature=0,\n",
    "    max_tokens=None,\n",
    "    timeout=None,\n",
    "    max_retries=2,)\n",
    "graph = create_react_agent(model, tools)"
   ]
  },
  {
   "cell_type": "markdown",
   "id": "239cdded-315e-44bb-9cbd-c903c3c311c6",
   "metadata": {},
   "source": [
    "藉由串流方式，不斷回應，同時 AI 會依照`tool`生成對應的提示詞，並以此為依據作答"
   ]
  },
  {
   "cell_type": "code",
   "execution_count": 21,
   "id": "219033e1-b041-442d-8b16-20a7199410b5",
   "metadata": {},
   "outputs": [
    {
     "name": "stdout",
     "output_type": "stream",
     "text": [
      "================================\u001b[1m Human Message \u001b[0m=================================\n",
      "\n",
      "我想吃夜市的小吃，有什麼推薦嗎？\n",
      "==================================\u001b[1m Ai Message \u001b[0m==================================\n",
      "\n",
      "你喜歡鹹食還是甜食呢？這樣我可以更好地為你推薦夜市小吃！\n"
     ]
    }
   ],
   "source": [
    "inputs = {\"messages\": [(\"human\", \"我想吃夜市的小吃，有什麼推薦嗎？\")]}\n",
    "async for chunk in graph.astream(inputs, stream_mode=\"values\"):\n",
    "    #顯示最新訊息的內容，並且漂亮顯示出\n",
    "    chunk[\"messages\"][-1].pretty_print()"
   ]
  },
  {
   "cell_type": "code",
   "execution_count": 23,
   "id": "23bfee87-0e4d-4256-ae06-2d32f787adc3",
   "metadata": {},
   "outputs": [
    {
     "name": "stdout",
     "output_type": "stream",
     "text": [
      "================================\u001b[1m Human Message \u001b[0m=================================\n",
      "\n",
      "鹹食\n",
      "==================================\u001b[1m Ai Message \u001b[0m==================================\n",
      "Tool Calls:\n",
      "  recommend_night_market_food (call_qx82HdeLORV556J1MdxmjJUS)\n",
      " Call ID: call_qx82HdeLORV556J1MdxmjJUS\n",
      "  Args:\n",
      "    preference: 鹹食\n",
      "=================================\u001b[1m Tool Message \u001b[0m=================================\n",
      "Name: recommend_night_market_food\n",
      "\n",
      "推薦你試試饒河夜市的胡椒餅，外皮酥脆內餡多汁，是台北知名小吃！\n",
      "==================================\u001b[1m Ai Message \u001b[0m==================================\n",
      "\n",
      "我推薦你試試饒河夜市的胡椒餅，外皮酥脆，內餡多汁，是台北知名的小吃！\n"
     ]
    }
   ],
   "source": [
    "inputs = {\"messages\": [(\"human\", \"鹹食\")]}\n",
    "async for chunk in graph.astream(inputs, stream_mode=\"values\"):\n",
    "    #顯示最新訊息的內容，並且漂亮顯示出\n",
    "    chunk[\"messages\"][-1].pretty_print()"
   ]
  },
  {
   "cell_type": "code",
   "execution_count": 24,
   "id": "ade84e13-4313-4a3c-b6d4-fd90b81aba38",
   "metadata": {},
   "outputs": [
    {
     "name": "stdout",
     "output_type": "stream",
     "text": [
      "==================================\u001b[1m Ai Message \u001b[0m==================================\n",
      "\n",
      "你喜歡傳統風味的手搖飲還是創新風味的手搖飲呢？\n"
     ]
    }
   ],
   "source": [
    "inputs = {\"messages\": [(\"human\", \"有什麼手搖飲推薦嗎？\")]}\n",
    "async for chunk in graph.astream(inputs, stream_mode=\"values\"):\n",
    "    final_result = chunk\n",
    "\n",
    "final_result[\"messages\"][-1].pretty_print()"
   ]
  },
  {
   "cell_type": "code",
   "execution_count": 25,
   "id": "b6bab361-e7d3-4d02-b317-c0fe9953bc84",
   "metadata": {},
   "outputs": [
    {
     "name": "stdout",
     "output_type": "stream",
     "text": [
      "==================================\u001b[1m Ai Message \u001b[0m==================================\n",
      "\n",
      "這裡有一些傳統風味的推薦：\n",
      "\n",
      "### 夜市小吃\n",
      "- **推薦**：你可以試試「葱油饼」，外皮酥脆，內部柔軟，是台北知名的小吃！\n",
      "\n",
      "### 手搖飲\n",
      "- **推薦**：你一定要品嚐「台中第四信用合作社」的珍珠奶茶，香濃滑順，珍珠有嚼勁！\n"
     ]
    }
   ],
   "source": [
    "inputs = {\"messages\": [(\"human\", \"傳統風味\")]}\n",
    "async for chunk in graph.astream(inputs, stream_mode=\"values\"):\n",
    "    final_result = chunk\n",
    "\n",
    "final_result[\"messages\"][-1].pretty_print()"
   ]
  },
  {
   "cell_type": "markdown",
   "id": "5f0bbd23-2443-4903-8fe5-3b0b943ad3e4",
   "metadata": {},
   "source": [
    "### 串流狀態更新(stream state updates)範例"
   ]
  },
  {
   "cell_type": "code",
   "execution_count": 26,
   "id": "6bfb8078-57fc-47ff-ab21-42c36d96fcf4",
   "metadata": {},
   "outputs": [
    {
     "name": "stdout",
     "output_type": "stream",
     "text": [
      "接收來自節點 'agent' 的更新:\n",
      "==================================\u001b[1m Ai Message \u001b[0m==================================\n",
      "\n",
      "你可以考慮去當地的夜市，通常那裡會有許多特色飲料攤位。台灣的夜市特別有名，像是士林夜市、饒河街夜市和寧夏夜市等，這些地方都有各式各樣的手搖飲和特色飲品。\n",
      "\n",
      "如果你有特定的飲料風格偏好（例如傳統或創新），我可以幫你推薦一些具體的手搖飲。你有什麼偏好嗎？\n"
     ]
    }
   ],
   "source": [
    "inputs = {\"messages\": [(\"human\", \"我想喝夜市的特色飲料，該去哪裡？\")]}\n",
    "async for chunk in graph.astream(inputs, stream_mode=\"updates\"):\n",
    "    for node, values in chunk.items():\n",
    "        print(f\"接收來自節點 '{node}' 的更新:\")\n",
    "        values[\"messages\"][-1].pretty_print()\n",
    "        # print(values)\n",
    "        # print(\"\\n\\n\")"
   ]
  },
  {
   "cell_type": "code",
   "execution_count": 27,
   "id": "58164db5-5f10-4047-91a4-63081807ecbd",
   "metadata": {},
   "outputs": [
    {
     "name": "stdout",
     "output_type": "stream",
     "text": [
      "接收來自節點 'agent' 的更新:\n",
      "==================================\u001b[1m Ai Message \u001b[0m==================================\n",
      "Tool Calls:\n",
      "  recommend_night_market_food (call_fM2biy1cZzT9l7O3ozak1C6P)\n",
      " Call ID: call_fM2biy1cZzT9l7O3ozak1C6P\n",
      "  Args:\n",
      "    preference: 鹹食\n",
      "  recommend_bubble_tea (call_9G9ZCAsmpokG8BIreLIzlOtr)\n",
      " Call ID: call_9G9ZCAsmpokG8BIreLIzlOtr\n",
      "  Args:\n",
      "    style: 傳統\n",
      "接收來自節點 'tools' 的更新:\n",
      "=================================\u001b[1m Tool Message \u001b[0m=================================\n",
      "Name: recommend_night_market_food\n",
      "\n",
      "推薦你試試饒河夜市的胡椒餅，外皮酥脆內餡多汁，是台北知名小吃！\n",
      "接收來自節點 'tools' 的更新:\n",
      "=================================\u001b[1m Tool Message \u001b[0m=================================\n",
      "Name: recommend_bubble_tea\n",
      "\n",
      "你一定要品嚐一下台中第四信用合作社對面的珍珠奶茶，香濃滑順，珍珠有嚼勁！\n",
      "接收來自節點 'agent' 的更新:\n",
      "==================================\u001b[1m Ai Message \u001b[0m==================================\n",
      "\n",
      "這裡有一些傳統的推薦：\n",
      "\n",
      "### 夜市小吃\n",
      "你可以試試「鹽酥雞」，這是一道非常受歡迎的台灣夜市小吃，外酥內嫩，搭配多種調味料，絕對讓你回味無窮！\n",
      "\n",
      "### 手搖飲\n",
      "建議你品嚐「台中第四信用合作社」的珍珠奶茶，這款飲品香濃滑順，珍珠Q彈，是經典中的經典，值得一試！\n"
     ]
    }
   ],
   "source": [
    "inputs = {\"messages\": [(\"human\", \"傳統的\")]}\n",
    "async for chunk in graph.astream(inputs, stream_mode=\"updates\"):\n",
    "    for node, values in chunk.items():\n",
    "        print(f\"接收來自節點 '{node}' 的更新:\")\n",
    "        values[\"messages\"][-1].pretty_print()"
   ]
  },
  {
   "cell_type": "markdown",
   "id": "1443e34b-12e3-4be5-a8ae-557dfa70cf7b",
   "metadata": {},
   "source": [
    "### 多模式串流配置(\"values\", \"updates\", \"debug\")"
   ]
  },
  {
   "cell_type": "code",
   "execution_count": 28,
   "id": "e6f2c9f7-411d-40f7-9c94-1d9a385afb71",
   "metadata": {},
   "outputs": [
    {
     "name": "stdout",
     "output_type": "stream",
     "text": [
      "接收新的事件類型: values...\n",
      "{'messages': [HumanMessage(content='請推薦一個夜市的小吃和一個飲料', additional_kwargs={}, response_metadata={}, id='a2ae1c2f-7b53-4d41-ae0a-ce990346ccf3')]}\n",
      "\n",
      "\n",
      "\n",
      "接收新的事件類型: debug...\n",
      "{'step': 1, 'timestamp': '2025-07-22T08:05:35.389108+00:00', 'type': 'task', 'payload': {'id': '9d384e52-ce5b-755f-0a42-89f3c07158e7', 'name': 'agent', 'input': {'messages': [HumanMessage(content='請推薦一個夜市的小吃和一個飲料', additional_kwargs={}, response_metadata={}, id='a2ae1c2f-7b53-4d41-ae0a-ce990346ccf3')], 'is_last_step': False, 'remaining_steps': 24}, 'triggers': ('branch:to:agent',)}}\n",
      "\n",
      "\n",
      "\n",
      "接收新的事件類型: updates...\n",
      "{'agent': {'messages': [AIMessage(content='', additional_kwargs={'tool_calls': [{'id': 'call_8Yz3eFxgTR7fLtNLcT8hZunP', 'function': {'arguments': '{\"preference\": \"鹹食\"}', 'name': 'recommend_night_market_food'}, 'type': 'function'}, {'id': 'call_H8BhBd87FOMknKlN47gQyeO4', 'function': {'arguments': '{\"style\": \"傳統\"}', 'name': 'recommend_bubble_tea'}, 'type': 'function'}], 'refusal': None}, response_metadata={'token_usage': {'completion_tokens': 56, 'prompt_tokens': 101, 'total_tokens': 157, 'completion_tokens_details': {'accepted_prediction_tokens': 0, 'audio_tokens': 0, 'reasoning_tokens': 0, 'rejected_prediction_tokens': 0}, 'prompt_tokens_details': {'audio_tokens': 0, 'cached_tokens': 0}}, 'model_name': 'gpt-4o-mini-2024-07-18', 'system_fingerprint': None, 'id': 'chatcmpl-Bw2I50wMwtgKCb3ogHNvNcZ3KMTvn', 'service_tier': 'default', 'finish_reason': 'tool_calls', 'logprobs': None}, id='run--ef227c66-f19c-4b35-8216-57aa6ead6178-0', tool_calls=[{'name': 'recommend_night_market_food', 'args': {'preference': '鹹食'}, 'id': 'call_8Yz3eFxgTR7fLtNLcT8hZunP', 'type': 'tool_call'}, {'name': 'recommend_bubble_tea', 'args': {'style': '傳統'}, 'id': 'call_H8BhBd87FOMknKlN47gQyeO4', 'type': 'tool_call'}], usage_metadata={'input_tokens': 101, 'output_tokens': 56, 'total_tokens': 157, 'input_token_details': {'audio': 0, 'cache_read': 0}, 'output_token_details': {'audio': 0, 'reasoning': 0}})]}}\n",
      "\n",
      "\n",
      "\n",
      "接收新的事件類型: debug...\n",
      "{'step': 1, 'timestamp': '2025-07-22T08:05:36.822135+00:00', 'type': 'task_result', 'payload': {'id': '9d384e52-ce5b-755f-0a42-89f3c07158e7', 'name': 'agent', 'error': None, 'result': [('messages', [AIMessage(content='', additional_kwargs={'tool_calls': [{'id': 'call_8Yz3eFxgTR7fLtNLcT8hZunP', 'function': {'arguments': '{\"preference\": \"鹹食\"}', 'name': 'recommend_night_market_food'}, 'type': 'function'}, {'id': 'call_H8BhBd87FOMknKlN47gQyeO4', 'function': {'arguments': '{\"style\": \"傳統\"}', 'name': 'recommend_bubble_tea'}, 'type': 'function'}], 'refusal': None}, response_metadata={'token_usage': {'completion_tokens': 56, 'prompt_tokens': 101, 'total_tokens': 157, 'completion_tokens_details': {'accepted_prediction_tokens': 0, 'audio_tokens': 0, 'reasoning_tokens': 0, 'rejected_prediction_tokens': 0}, 'prompt_tokens_details': {'audio_tokens': 0, 'cached_tokens': 0}}, 'model_name': 'gpt-4o-mini-2024-07-18', 'system_fingerprint': None, 'id': 'chatcmpl-Bw2I50wMwtgKCb3ogHNvNcZ3KMTvn', 'service_tier': 'default', 'finish_reason': 'tool_calls', 'logprobs': None}, id='run--ef227c66-f19c-4b35-8216-57aa6ead6178-0', tool_calls=[{'name': 'recommend_night_market_food', 'args': {'preference': '鹹食'}, 'id': 'call_8Yz3eFxgTR7fLtNLcT8hZunP', 'type': 'tool_call'}, {'name': 'recommend_bubble_tea', 'args': {'style': '傳統'}, 'id': 'call_H8BhBd87FOMknKlN47gQyeO4', 'type': 'tool_call'}], usage_metadata={'input_tokens': 101, 'output_tokens': 56, 'total_tokens': 157, 'input_token_details': {'audio': 0, 'cache_read': 0}, 'output_token_details': {'audio': 0, 'reasoning': 0}})])], 'interrupts': []}}\n",
      "\n",
      "\n",
      "\n",
      "接收新的事件類型: values...\n",
      "{'messages': [HumanMessage(content='請推薦一個夜市的小吃和一個飲料', additional_kwargs={}, response_metadata={}, id='a2ae1c2f-7b53-4d41-ae0a-ce990346ccf3'), AIMessage(content='', additional_kwargs={'tool_calls': [{'id': 'call_8Yz3eFxgTR7fLtNLcT8hZunP', 'function': {'arguments': '{\"preference\": \"鹹食\"}', 'name': 'recommend_night_market_food'}, 'type': 'function'}, {'id': 'call_H8BhBd87FOMknKlN47gQyeO4', 'function': {'arguments': '{\"style\": \"傳統\"}', 'name': 'recommend_bubble_tea'}, 'type': 'function'}], 'refusal': None}, response_metadata={'token_usage': {'completion_tokens': 56, 'prompt_tokens': 101, 'total_tokens': 157, 'completion_tokens_details': {'accepted_prediction_tokens': 0, 'audio_tokens': 0, 'reasoning_tokens': 0, 'rejected_prediction_tokens': 0}, 'prompt_tokens_details': {'audio_tokens': 0, 'cached_tokens': 0}}, 'model_name': 'gpt-4o-mini-2024-07-18', 'system_fingerprint': None, 'id': 'chatcmpl-Bw2I50wMwtgKCb3ogHNvNcZ3KMTvn', 'service_tier': 'default', 'finish_reason': 'tool_calls', 'logprobs': None}, id='run--ef227c66-f19c-4b35-8216-57aa6ead6178-0', tool_calls=[{'name': 'recommend_night_market_food', 'args': {'preference': '鹹食'}, 'id': 'call_8Yz3eFxgTR7fLtNLcT8hZunP', 'type': 'tool_call'}, {'name': 'recommend_bubble_tea', 'args': {'style': '傳統'}, 'id': 'call_H8BhBd87FOMknKlN47gQyeO4', 'type': 'tool_call'}], usage_metadata={'input_tokens': 101, 'output_tokens': 56, 'total_tokens': 157, 'input_token_details': {'audio': 0, 'cache_read': 0}, 'output_token_details': {'audio': 0, 'reasoning': 0}})]}\n",
      "\n",
      "\n",
      "\n",
      "接收新的事件類型: debug...\n",
      "{'step': 2, 'timestamp': '2025-07-22T08:05:36.822323+00:00', 'type': 'task', 'payload': {'id': '1784f9c2-aeb6-f6f8-8219-4067d303b792', 'name': 'tools', 'input': [{'name': 'recommend_night_market_food', 'args': {'preference': '鹹食'}, 'id': 'call_8Yz3eFxgTR7fLtNLcT8hZunP', 'type': 'tool_call'}], 'triggers': ('__pregel_push',)}}\n",
      "\n",
      "\n",
      "\n",
      "接收新的事件類型: debug...\n",
      "{'step': 2, 'timestamp': '2025-07-22T08:05:36.822330+00:00', 'type': 'task', 'payload': {'id': '192ad774-2419-cad5-64cc-f187477d9f15', 'name': 'tools', 'input': [{'name': 'recommend_bubble_tea', 'args': {'style': '傳統'}, 'id': 'call_H8BhBd87FOMknKlN47gQyeO4', 'type': 'tool_call'}], 'triggers': ('__pregel_push',)}}\n",
      "\n",
      "\n",
      "\n",
      "接收新的事件類型: updates...\n",
      "{'tools': {'messages': [ToolMessage(content='推薦你試試饒河夜市的胡椒餅，外皮酥脆內餡多汁，是台北知名小吃！', name='recommend_night_market_food', tool_call_id='call_8Yz3eFxgTR7fLtNLcT8hZunP')]}}\n",
      "\n",
      "\n",
      "\n",
      "接收新的事件類型: debug...\n",
      "{'step': 2, 'timestamp': '2025-07-22T08:05:36.824926+00:00', 'type': 'task_result', 'payload': {'id': '1784f9c2-aeb6-f6f8-8219-4067d303b792', 'name': 'tools', 'error': None, 'result': [('messages', [ToolMessage(content='推薦你試試饒河夜市的胡椒餅，外皮酥脆內餡多汁，是台北知名小吃！', name='recommend_night_market_food', tool_call_id='call_8Yz3eFxgTR7fLtNLcT8hZunP')])], 'interrupts': []}}\n",
      "\n",
      "\n",
      "\n",
      "接收新的事件類型: updates...\n",
      "{'tools': {'messages': [ToolMessage(content='你一定要品嚐一下台中第四信用合作社對面的珍珠奶茶，香濃滑順，珍珠有嚼勁！', name='recommend_bubble_tea', tool_call_id='call_H8BhBd87FOMknKlN47gQyeO4')]}}\n",
      "\n",
      "\n",
      "\n",
      "接收新的事件類型: debug...\n",
      "{'step': 2, 'timestamp': '2025-07-22T08:05:36.824964+00:00', 'type': 'task_result', 'payload': {'id': '192ad774-2419-cad5-64cc-f187477d9f15', 'name': 'tools', 'error': None, 'result': [('messages', [ToolMessage(content='你一定要品嚐一下台中第四信用合作社對面的珍珠奶茶，香濃滑順，珍珠有嚼勁！', name='recommend_bubble_tea', tool_call_id='call_H8BhBd87FOMknKlN47gQyeO4')])], 'interrupts': []}}\n",
      "\n",
      "\n",
      "\n",
      "接收新的事件類型: values...\n",
      "{'messages': [HumanMessage(content='請推薦一個夜市的小吃和一個飲料', additional_kwargs={}, response_metadata={}, id='a2ae1c2f-7b53-4d41-ae0a-ce990346ccf3'), AIMessage(content='', additional_kwargs={'tool_calls': [{'id': 'call_8Yz3eFxgTR7fLtNLcT8hZunP', 'function': {'arguments': '{\"preference\": \"鹹食\"}', 'name': 'recommend_night_market_food'}, 'type': 'function'}, {'id': 'call_H8BhBd87FOMknKlN47gQyeO4', 'function': {'arguments': '{\"style\": \"傳統\"}', 'name': 'recommend_bubble_tea'}, 'type': 'function'}], 'refusal': None}, response_metadata={'token_usage': {'completion_tokens': 56, 'prompt_tokens': 101, 'total_tokens': 157, 'completion_tokens_details': {'accepted_prediction_tokens': 0, 'audio_tokens': 0, 'reasoning_tokens': 0, 'rejected_prediction_tokens': 0}, 'prompt_tokens_details': {'audio_tokens': 0, 'cached_tokens': 0}}, 'model_name': 'gpt-4o-mini-2024-07-18', 'system_fingerprint': None, 'id': 'chatcmpl-Bw2I50wMwtgKCb3ogHNvNcZ3KMTvn', 'service_tier': 'default', 'finish_reason': 'tool_calls', 'logprobs': None}, id='run--ef227c66-f19c-4b35-8216-57aa6ead6178-0', tool_calls=[{'name': 'recommend_night_market_food', 'args': {'preference': '鹹食'}, 'id': 'call_8Yz3eFxgTR7fLtNLcT8hZunP', 'type': 'tool_call'}, {'name': 'recommend_bubble_tea', 'args': {'style': '傳統'}, 'id': 'call_H8BhBd87FOMknKlN47gQyeO4', 'type': 'tool_call'}], usage_metadata={'input_tokens': 101, 'output_tokens': 56, 'total_tokens': 157, 'input_token_details': {'audio': 0, 'cache_read': 0}, 'output_token_details': {'audio': 0, 'reasoning': 0}}), ToolMessage(content='推薦你試試饒河夜市的胡椒餅，外皮酥脆內餡多汁，是台北知名小吃！', name='recommend_night_market_food', id='db693a9f-3c4b-4447-a348-7be5298742fa', tool_call_id='call_8Yz3eFxgTR7fLtNLcT8hZunP'), ToolMessage(content='你一定要品嚐一下台中第四信用合作社對面的珍珠奶茶，香濃滑順，珍珠有嚼勁！', name='recommend_bubble_tea', id='fa967d57-3a22-4ef8-a879-02901b78da91', tool_call_id='call_H8BhBd87FOMknKlN47gQyeO4')]}\n",
      "\n",
      "\n",
      "\n",
      "接收新的事件類型: debug...\n",
      "{'step': 3, 'timestamp': '2025-07-22T08:05:36.825376+00:00', 'type': 'task', 'payload': {'id': '4f191920-0c08-3e4b-6b54-83eb678b522c', 'name': 'agent', 'input': {'messages': [HumanMessage(content='請推薦一個夜市的小吃和一個飲料', additional_kwargs={}, response_metadata={}, id='a2ae1c2f-7b53-4d41-ae0a-ce990346ccf3'), AIMessage(content='', additional_kwargs={'tool_calls': [{'id': 'call_8Yz3eFxgTR7fLtNLcT8hZunP', 'function': {'arguments': '{\"preference\": \"鹹食\"}', 'name': 'recommend_night_market_food'}, 'type': 'function'}, {'id': 'call_H8BhBd87FOMknKlN47gQyeO4', 'function': {'arguments': '{\"style\": \"傳統\"}', 'name': 'recommend_bubble_tea'}, 'type': 'function'}], 'refusal': None}, response_metadata={'token_usage': {'completion_tokens': 56, 'prompt_tokens': 101, 'total_tokens': 157, 'completion_tokens_details': {'accepted_prediction_tokens': 0, 'audio_tokens': 0, 'reasoning_tokens': 0, 'rejected_prediction_tokens': 0}, 'prompt_tokens_details': {'audio_tokens': 0, 'cached_tokens': 0}}, 'model_name': 'gpt-4o-mini-2024-07-18', 'system_fingerprint': None, 'id': 'chatcmpl-Bw2I50wMwtgKCb3ogHNvNcZ3KMTvn', 'service_tier': 'default', 'finish_reason': 'tool_calls', 'logprobs': None}, id='run--ef227c66-f19c-4b35-8216-57aa6ead6178-0', tool_calls=[{'name': 'recommend_night_market_food', 'args': {'preference': '鹹食'}, 'id': 'call_8Yz3eFxgTR7fLtNLcT8hZunP', 'type': 'tool_call'}, {'name': 'recommend_bubble_tea', 'args': {'style': '傳統'}, 'id': 'call_H8BhBd87FOMknKlN47gQyeO4', 'type': 'tool_call'}], usage_metadata={'input_tokens': 101, 'output_tokens': 56, 'total_tokens': 157, 'input_token_details': {'audio': 0, 'cache_read': 0}, 'output_token_details': {'audio': 0, 'reasoning': 0}}), ToolMessage(content='推薦你試試饒河夜市的胡椒餅，外皮酥脆內餡多汁，是台北知名小吃！', name='recommend_night_market_food', id='db693a9f-3c4b-4447-a348-7be5298742fa', tool_call_id='call_8Yz3eFxgTR7fLtNLcT8hZunP'), ToolMessage(content='你一定要品嚐一下台中第四信用合作社對面的珍珠奶茶，香濃滑順，珍珠有嚼勁！', name='recommend_bubble_tea', id='fa967d57-3a22-4ef8-a879-02901b78da91', tool_call_id='call_H8BhBd87FOMknKlN47gQyeO4')], 'is_last_step': False, 'remaining_steps': 22}, 'triggers': ('branch:to:agent',)}}\n",
      "\n",
      "\n",
      "\n",
      "接收新的事件類型: updates...\n",
      "{'agent': {'messages': [AIMessage(content='我推薦你試試以下的夜市小吃和飲料：\\n\\n- **夜市小吃**：你可以試試「鹽酥雞」，這是一道外酥內嫩的美味小吃，非常受歡迎，特別是在台北的夜市中。\\n\\n- **飲料**：建議你品嚐「珍珠奶茶」，這是台灣經典的手搖飲，香濃的奶茶搭配Q彈的珍珠，口感絕佳！', additional_kwargs={'refusal': None}, response_metadata={'token_usage': {'completion_tokens': 114, 'prompt_tokens': 407, 'total_tokens': 521, 'completion_tokens_details': {'accepted_prediction_tokens': 0, 'audio_tokens': 0, 'reasoning_tokens': 0, 'rejected_prediction_tokens': 0}, 'prompt_tokens_details': {'audio_tokens': 0, 'cached_tokens': 0}}, 'model_name': 'gpt-4o-mini-2024-07-18', 'system_fingerprint': None, 'id': 'chatcmpl-Bw2I6BXHEYmxPltYF0BtjeP2p4Yyl', 'service_tier': 'default', 'finish_reason': 'stop', 'logprobs': None}, id='run--53da0fd5-3224-4530-8198-9cdd6ea932e2-0', usage_metadata={'input_tokens': 407, 'output_tokens': 114, 'total_tokens': 521, 'input_token_details': {'audio': 0, 'cache_read': 0}, 'output_token_details': {'audio': 0, 'reasoning': 0}})]}}\n",
      "\n",
      "\n",
      "\n",
      "接收新的事件類型: debug...\n",
      "{'step': 3, 'timestamp': '2025-07-22T08:05:39.209525+00:00', 'type': 'task_result', 'payload': {'id': '4f191920-0c08-3e4b-6b54-83eb678b522c', 'name': 'agent', 'error': None, 'result': [('messages', [AIMessage(content='我推薦你試試以下的夜市小吃和飲料：\\n\\n- **夜市小吃**：你可以試試「鹽酥雞」，這是一道外酥內嫩的美味小吃，非常受歡迎，特別是在台北的夜市中。\\n\\n- **飲料**：建議你品嚐「珍珠奶茶」，這是台灣經典的手搖飲，香濃的奶茶搭配Q彈的珍珠，口感絕佳！', additional_kwargs={'refusal': None}, response_metadata={'token_usage': {'completion_tokens': 114, 'prompt_tokens': 407, 'total_tokens': 521, 'completion_tokens_details': {'accepted_prediction_tokens': 0, 'audio_tokens': 0, 'reasoning_tokens': 0, 'rejected_prediction_tokens': 0}, 'prompt_tokens_details': {'audio_tokens': 0, 'cached_tokens': 0}}, 'model_name': 'gpt-4o-mini-2024-07-18', 'system_fingerprint': None, 'id': 'chatcmpl-Bw2I6BXHEYmxPltYF0BtjeP2p4Yyl', 'service_tier': 'default', 'finish_reason': 'stop', 'logprobs': None}, id='run--53da0fd5-3224-4530-8198-9cdd6ea932e2-0', usage_metadata={'input_tokens': 407, 'output_tokens': 114, 'total_tokens': 521, 'input_token_details': {'audio': 0, 'cache_read': 0}, 'output_token_details': {'audio': 0, 'reasoning': 0}})])], 'interrupts': []}}\n",
      "\n",
      "\n",
      "\n",
      "接收新的事件類型: values...\n",
      "{'messages': [HumanMessage(content='請推薦一個夜市的小吃和一個飲料', additional_kwargs={}, response_metadata={}, id='a2ae1c2f-7b53-4d41-ae0a-ce990346ccf3'), AIMessage(content='', additional_kwargs={'tool_calls': [{'id': 'call_8Yz3eFxgTR7fLtNLcT8hZunP', 'function': {'arguments': '{\"preference\": \"鹹食\"}', 'name': 'recommend_night_market_food'}, 'type': 'function'}, {'id': 'call_H8BhBd87FOMknKlN47gQyeO4', 'function': {'arguments': '{\"style\": \"傳統\"}', 'name': 'recommend_bubble_tea'}, 'type': 'function'}], 'refusal': None}, response_metadata={'token_usage': {'completion_tokens': 56, 'prompt_tokens': 101, 'total_tokens': 157, 'completion_tokens_details': {'accepted_prediction_tokens': 0, 'audio_tokens': 0, 'reasoning_tokens': 0, 'rejected_prediction_tokens': 0}, 'prompt_tokens_details': {'audio_tokens': 0, 'cached_tokens': 0}}, 'model_name': 'gpt-4o-mini-2024-07-18', 'system_fingerprint': None, 'id': 'chatcmpl-Bw2I50wMwtgKCb3ogHNvNcZ3KMTvn', 'service_tier': 'default', 'finish_reason': 'tool_calls', 'logprobs': None}, id='run--ef227c66-f19c-4b35-8216-57aa6ead6178-0', tool_calls=[{'name': 'recommend_night_market_food', 'args': {'preference': '鹹食'}, 'id': 'call_8Yz3eFxgTR7fLtNLcT8hZunP', 'type': 'tool_call'}, {'name': 'recommend_bubble_tea', 'args': {'style': '傳統'}, 'id': 'call_H8BhBd87FOMknKlN47gQyeO4', 'type': 'tool_call'}], usage_metadata={'input_tokens': 101, 'output_tokens': 56, 'total_tokens': 157, 'input_token_details': {'audio': 0, 'cache_read': 0}, 'output_token_details': {'audio': 0, 'reasoning': 0}}), ToolMessage(content='推薦你試試饒河夜市的胡椒餅，外皮酥脆內餡多汁，是台北知名小吃！', name='recommend_night_market_food', id='db693a9f-3c4b-4447-a348-7be5298742fa', tool_call_id='call_8Yz3eFxgTR7fLtNLcT8hZunP'), ToolMessage(content='你一定要品嚐一下台中第四信用合作社對面的珍珠奶茶，香濃滑順，珍珠有嚼勁！', name='recommend_bubble_tea', id='fa967d57-3a22-4ef8-a879-02901b78da91', tool_call_id='call_H8BhBd87FOMknKlN47gQyeO4'), AIMessage(content='我推薦你試試以下的夜市小吃和飲料：\\n\\n- **夜市小吃**：你可以試試「鹽酥雞」，這是一道外酥內嫩的美味小吃，非常受歡迎，特別是在台北的夜市中。\\n\\n- **飲料**：建議你品嚐「珍珠奶茶」，這是台灣經典的手搖飲，香濃的奶茶搭配Q彈的珍珠，口感絕佳！', additional_kwargs={'refusal': None}, response_metadata={'token_usage': {'completion_tokens': 114, 'prompt_tokens': 407, 'total_tokens': 521, 'completion_tokens_details': {'accepted_prediction_tokens': 0, 'audio_tokens': 0, 'reasoning_tokens': 0, 'rejected_prediction_tokens': 0}, 'prompt_tokens_details': {'audio_tokens': 0, 'cached_tokens': 0}}, 'model_name': 'gpt-4o-mini-2024-07-18', 'system_fingerprint': None, 'id': 'chatcmpl-Bw2I6BXHEYmxPltYF0BtjeP2p4Yyl', 'service_tier': 'default', 'finish_reason': 'stop', 'logprobs': None}, id='run--53da0fd5-3224-4530-8198-9cdd6ea932e2-0', usage_metadata={'input_tokens': 407, 'output_tokens': 114, 'total_tokens': 521, 'input_token_details': {'audio': 0, 'cache_read': 0}, 'output_token_details': {'audio': 0, 'reasoning': 0}})]}\n",
      "\n",
      "\n",
      "\n"
     ]
    }
   ],
   "source": [
    "inputs = {\"messages\": [(\"human\", \"請推薦一個夜市的小吃和一個飲料\")]}\n",
    "async for event, chunk in graph.astream(inputs, stream_mode=[\"values\", \"updates\", \"debug\"]):\n",
    "    print(f\"接收新的事件類型: {event}...\")\n",
    "    print(chunk)\n",
    "    print(\"\\n\\n\")"
   ]
  },
  {
   "cell_type": "markdown",
   "id": "390563b1-281a-4ec9-a9c0-39e29b2603ff",
   "metadata": {},
   "source": [
    "### 最終節點串流\n",
    "只對結果感興趣的時候使用"
   ]
  },
  {
   "cell_type": "code",
   "execution_count": 29,
   "id": "a95461bc-1bac-42f1-ae2b-c9346ddc4201",
   "metadata": {},
   "outputs": [],
   "source": [
    "from typing import Literal\n",
    "from langchain_core.tools import tool\n",
    "from langchain_openai import ChatOpenAI\n",
    "from langgraph.prebuilt import create_react_agent\n",
    "\n",
    "\n",
    "@tool\n",
    "def recommend_night_market_food(preference: Literal[\"鹹食\", \"甜食\"]):\n",
    "    \"\"\"推薦夜市小吃。\"\"\"\n",
    "    if preference == \"鹹食\":\n",
    "        return \"推薦你試試饒河夜市的胡椒餅，外皮酥脆內餡多汁，是台北知名小吃！\"\n",
    "    elif preference == \"甜食\":\n",
    "        return \"來一份寧夏夜市的圓仔冰如何？Q彈的湯圓搭配清涼冰品，超級消暑！\"\n",
    "    else:\n",
    "        raise AssertionError(\"未知偏好\")\n",
    "\n",
    "@tool\n",
    "def recommend_bubble_tea(style: Literal[\"傳統\", \"創新\"]):\n",
    "    \"\"\"推薦手搖飲。\"\"\"\n",
    "    if style == \"傳統\":\n",
    "        return \"你一定要品嚐一下台中第四信用合作社對面的珍珠奶茶，香濃滑順，珍珠有嚼勁！\"\n",
    "    elif style == \"創新\":\n",
    "        return \"試試看西門町的芋圓冰沙拿鐵，結合了傳統芋圓和現代咖啡，口感層次豐富！\"\n",
    "    else:\n",
    "        raise AssertionError(\"未知風格\")\n",
    "\n",
    "tools = [recommend_night_market_food, recommend_bubble_tea]\n",
    "# 原本設定為[model_name=\"gpt-3.5-turbo\", temperature=0]，會有費用問題\n",
    "model = ChatOpenAI(\n",
    "    model=\"gpt-4o-mini\",\n",
    "    temperature=0,\n",
    "    max_tokens=None,\n",
    "    timeout=None,\n",
    "    max_retries=2,)\n",
    "# 原本設定為[model_name=\"gpt-3.5-turbo\", temperature=0]，會有費用問題\n",
    "final_model = ChatOpenAI(\n",
    "    model=\"gpt-4o-mini\",\n",
    "    temperature=0,\n",
    "    max_tokens=None,\n",
    "    timeout=None,\n",
    "    max_retries=2,)\n",
    "\n",
    "model = model.bind_tools(tools)\n",
    "# NOTE: this is where we're adding a tag that we'll be using later to filter the outputs of the final node\n",
    "final_model = final_model.with_config(tags=[\"final_node\"])\n",
    "     "
   ]
  },
  {
   "cell_type": "code",
   "execution_count": 30,
   "id": "0714fdf6-83b3-4902-bd9a-96bf31629f0a",
   "metadata": {},
   "outputs": [],
   "source": [
    "from langgraph.prebuilt import ToolNode\n",
    "\n",
    "tool_node = ToolNode(tools=tools)"
   ]
  },
  {
   "cell_type": "markdown",
   "id": "ec25672f-c03c-47f9-88d6-bf61b397a837",
   "metadata": {},
   "source": [
    "#### 定義節點函數"
   ]
  },
  {
   "cell_type": "code",
   "execution_count": 31,
   "id": "cd43c2d0-1b77-4fa0-ae49-115914cb632c",
   "metadata": {},
   "outputs": [],
   "source": [
    "from langgraph.graph.message import MessagesState\n",
    "from langchain_core.messages import SystemMessage, HumanMessage\n",
    "\n",
    "def should_continue(state: MessagesState) -> Literal[\"tools\", \"final\"]:\n",
    "    messages = state[\"messages\"]\n",
    "    last_message = messages[-1]\n",
    "    if last_message.tool_calls:\n",
    "        return \"tools\"\n",
    "    return \"final\"\n",
    "\n",
    "def call_model(state: MessagesState):\n",
    "    messages = state[\"messages\"]\n",
    "    response = model.invoke(messages)\n",
    "    return {\"messages\": [response]}\n",
    "\n",
    "def call_final_model(state: MessagesState):\n",
    "    messages = state[\"messages\"]\n",
    "    last_ai_message = messages[-1]\n",
    "    response = final_model.invoke(\n",
    "        [\n",
    "            SystemMessage(\"美食部落客的口吻重新表達\"),\n",
    "            HumanMessage(last_ai_message.content),\n",
    "        ]\n",
    "    )\n",
    "    response.id = last_ai_message.id\n",
    "    return {\"messages\": [response]}\n"
   ]
  },
  {
   "cell_type": "markdown",
   "id": "1caa5b0f-5b4a-4c57-8e01-34628128dee8",
   "metadata": {},
   "source": [
    "#### 定義圖結構"
   ]
  },
  {
   "cell_type": "code",
   "execution_count": 32,
   "id": "8782deaf-8a8c-4507-8c95-38f496a266d3",
   "metadata": {},
   "outputs": [],
   "source": [
    "from langgraph.graph import END, StateGraph, START\n",
    "\n",
    "workflow = StateGraph(MessagesState)\n",
    "\n",
    "workflow.add_node(\"agent\", call_model)\n",
    "workflow.add_node(\"tools\", tool_node)\n",
    "workflow.add_node(\"final\", call_final_model)\n",
    "\n",
    "workflow.add_edge(START, \"agent\")\n",
    "workflow.add_conditional_edges(\n",
    "    \"agent\",\n",
    "    should_continue,\n",
    ")\n",
    "\n",
    "workflow.add_edge(\"tools\", \"agent\")\n",
    "workflow.add_edge(\"final\", END)\n",
    "app = workflow.compile()\n"
   ]
  },
  {
   "cell_type": "markdown",
   "id": "6104caca-f018-4c3e-8f71-126e5a6ad71d",
   "metadata": {},
   "source": [
    "##### 列印圖的結構"
   ]
  },
  {
   "cell_type": "code",
   "execution_count": 33,
   "id": "0e5f4d6c-4024-4fc2-8116-a442ab8afb85",
   "metadata": {},
   "outputs": [
    {
     "data": {
      "image/png": "[encoded data removed]",
      "text/plain": [
       "<IPython.core.display.Image object>"
      ]
     },
     "metadata": {},
     "output_type": "display_data"
    }
   ],
   "source": [
    "from IPython.display import display, Image\n",
    "\n",
    "display(Image(app.get_graph().draw_mermaid_png()))"
   ]
  },
  {
   "cell_type": "markdown",
   "id": "f140a2eb-3e5c-46bc-9328-97a15cf96ea2",
   "metadata": {},
   "source": [
    "#### 從最終節點取得串流"
   ]
  },
  {
   "cell_type": "code",
   "execution_count": 34,
   "id": "cbadb554-e845-467c-8ce9-94d611d273ea",
   "metadata": {},
   "outputs": [
    {
     "name": "stdout",
     "output_type": "stream",
     "text": [
      "================================\u001b[1m Human Message \u001b[0m=================================\n",
      "\n",
      "請推薦一款傳統手搖飲\n",
      "==================================\u001b[1m Ai Message \u001b[0m==================================\n",
      "Tool Calls:\n",
      "  recommend_bubble_tea (call_P6DG0WI1XYJHN7xNnOlaXUvt)\n",
      " Call ID: call_P6DG0WI1XYJHN7xNnOlaXUvt\n",
      "  Args:\n",
      "    style: 傳統\n",
      "=================================\u001b[1m Tool Message \u001b[0m=================================\n",
      "Name: recommend_bubble_tea\n",
      "\n",
      "你一定要品嚐一下台中第四信用合作社對面的珍珠奶茶，香濃滑順，珍珠有嚼勁！\n",
      "==================================\u001b[1m Ai Message \u001b[0m==================================\n",
      "\n",
      "我推薦你試試台中第四信用合作社對面的珍珠奶茶，這款手搖飲香濃滑順，珍珠也非常有嚼勁，絕對值得一試！\n",
      "==================================\u001b[1m Ai Message \u001b[0m==================================\n",
      "\n",
      "如果你來到台中，千萬不要錯過位於第四信用合作社對面的那家珍珠奶茶！這款手搖飲真的是香濃滑順，喝上一口就讓人心情大好。而且那顆顆珍珠更是Q彈有勁，咬下去的瞬間，滿滿的幸福感直擊心頭！絕對是值得一試的美味，快去品嚐吧！\n"
     ]
    }
   ],
   "source": [
    "inputs = {\"messages\": [(\"human\", \"請推薦一款傳統手搖飲\")]}\n",
    "async for chunk in app.astream(inputs, stream_mode=\"values\"):\n",
    "    #顯示最新訊息的內容，並且漂亮顯示出\n",
    "    chunk[\"messages\"][-1].pretty_print()\n",
    "     "
   ]
  }
 ],
 "metadata": {
  "kernelspec": {
   "display_name": "Python 3 (ipykernel)",
   "language": "python",
   "name": "python3"
  },
  "language_info": {
   "codemirror_mode": {
    "name": "ipython",
    "version": 3
   },
   "file_extension": ".py",
   "mimetype": "text/x-python",
   "name": "python",
   "nbconvert_exporter": "python",
   "pygments_lexer": "ipython3",
   "version": "3.12.11"
  }
 },
 "nbformat": 4,
 "nbformat_minor": 5
}
